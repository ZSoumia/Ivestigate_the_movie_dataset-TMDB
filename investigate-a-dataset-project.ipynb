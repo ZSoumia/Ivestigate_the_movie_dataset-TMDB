{
 "cells": [
  {
   "cell_type": "markdown",
   "metadata": {},
   "source": [
    "> **By **: Soumia Zohra EL MESTARI\n",
    "\n",
    "# Project: The movie database analysis\n",
    "\n",
    "## Table of Contents\n",
    "<ul>\n",
    "<li><a href=\"#intro\">Introduction</a></li>\n",
    "<li><a href=\"#wrangling\">Data Wrangling</a></li>\n",
    "<li><a href=\"#eda\">Exploratory Data Analysis</a></li>\n",
    "<li><a href=\"#conclusions\">Conclusions</a></li>\n",
    "</ul>"
   ]
  },
  {
   "cell_type": "markdown",
   "metadata": {},
   "source": [
    "<a id='intro'></a>\n",
    "## Introduction\n",
    "\n",
    ">**The dataset** :  The Movie Database (TMDb) , this data set contains informations about 10,000 movies such as their ratings and revenues.  \n",
    "\n",
    "> **Source ** : https://www.kaggle.com/tmdb/tmdb-movie-metadata  \n",
    ">** columns description ** :\n",
    "    - id & imdb : these values are identifiers ( we won't need them in our analysis )  \n",
    "    - popularity : a metric that summarises the echo of the film (social media indicators (number  \n",
    "    of likes on facebook for example ))\n",
    "    - budget and revenue : these two are financial indicators and because these values can be   \n",
    "    affected by the inflation over time two other columns were added budget_adj and revenue_adj   \n",
    "    that were calculated  based on the 2010 dollars.  \n",
    "    - the orginal title : movie title   \n",
    "    - cast : this column contains the name of the actors who took roles in a given film   \n",
    "    -keywords \n",
    "    - homepage : the film website URL   \n",
    "    - Overview : contains a summary about the film story    \n",
    "    - runtime   \n",
    "    -genres : the different categories that the film belongs to \n",
    "    - Production companies   \n",
    "    -release_date , release_year : two different format of release dates  \n",
    "    - vote count and vote average : informations about users ratings   \n",
    "    \n",
    "\n",
    "> **Questions for this analysis** :  \n",
    "1- what are the most popular kind of movies during this period ?  \n",
    "2- How does the film revenue correlate with film's popularity ?  \n",
    "3- How does the film revenue correlate with film's budget ?  \n",
    "4- How does the general movies industury evolving throughout the years ?  indicators are the runtime , budget , revenue and popularity "
   ]
  },
  {
   "cell_type": "code",
   "execution_count": 1,
   "metadata": {
    "collapsed": true
   },
   "outputs": [],
   "source": [
    "import pandas as pd \n",
    "import matplotlib.pyplot as plt\n",
    "import  seaborn as sns\n",
    "import numpy as np\n",
    "% matplotlib inline \n"
   ]
  },
  {
   "cell_type": "markdown",
   "metadata": {},
   "source": [
    "<a id='wrangling'></a>\n",
    "## Data Wrangling\n",
    "\n",
    ">  In this section of the report, I will load in the data, check for cleanliness, and then trim and clean the dataset for analysis.\n",
    "\n",
    "### General Properties"
   ]
  },
  {
   "cell_type": "markdown",
   "metadata": {},
   "source": [
    " **1st step : Overview** : load the data in dataframe and display a small portion of them to see the nature of the data that we are working with "
   ]
  },
  {
   "cell_type": "code",
   "execution_count": 2,
   "metadata": {
    "scrolled": true
   },
   "outputs": [
    {
     "data": {
      "text/html": [
       "<div>\n",
       "<style scoped>\n",
       "    .dataframe tbody tr th:only-of-type {\n",
       "        vertical-align: middle;\n",
       "    }\n",
       "\n",
       "    .dataframe tbody tr th {\n",
       "        vertical-align: top;\n",
       "    }\n",
       "\n",
       "    .dataframe thead th {\n",
       "        text-align: right;\n",
       "    }\n",
       "</style>\n",
       "<table border=\"1\" class=\"dataframe\">\n",
       "  <thead>\n",
       "    <tr style=\"text-align: right;\">\n",
       "      <th></th>\n",
       "      <th>id</th>\n",
       "      <th>imdb_id</th>\n",
       "      <th>popularity</th>\n",
       "      <th>budget</th>\n",
       "      <th>revenue</th>\n",
       "      <th>original_title</th>\n",
       "      <th>cast</th>\n",
       "      <th>homepage</th>\n",
       "      <th>director</th>\n",
       "      <th>tagline</th>\n",
       "      <th>keywords</th>\n",
       "      <th>overview</th>\n",
       "      <th>runtime</th>\n",
       "      <th>genres</th>\n",
       "      <th>production_companies</th>\n",
       "      <th>release_date</th>\n",
       "      <th>vote_count</th>\n",
       "      <th>vote_average</th>\n",
       "      <th>release_year</th>\n",
       "      <th>budget_adj</th>\n",
       "      <th>revenue_adj</th>\n",
       "    </tr>\n",
       "  </thead>\n",
       "  <tbody>\n",
       "    <tr>\n",
       "      <th>0</th>\n",
       "      <td>135397</td>\n",
       "      <td>tt0369610</td>\n",
       "      <td>32.985763</td>\n",
       "      <td>150000000</td>\n",
       "      <td>1513528810</td>\n",
       "      <td>Jurassic World</td>\n",
       "      <td>Chris Pratt|Bryce Dallas Howard|Irrfan Khan|Vi...</td>\n",
       "      <td>http://www.jurassicworld.com/</td>\n",
       "      <td>Colin Trevorrow</td>\n",
       "      <td>The park is open.</td>\n",
       "      <td>monster|dna|tyrannosaurus rex|velociraptor|island</td>\n",
       "      <td>Twenty-two years after the events of Jurassic ...</td>\n",
       "      <td>124</td>\n",
       "      <td>Action|Adventure|Science Fiction|Thriller</td>\n",
       "      <td>Universal Studios|Amblin Entertainment|Legenda...</td>\n",
       "      <td>6/9/15</td>\n",
       "      <td>5562</td>\n",
       "      <td>6.5</td>\n",
       "      <td>2015</td>\n",
       "      <td>1.379999e+08</td>\n",
       "      <td>1.392446e+09</td>\n",
       "    </tr>\n",
       "    <tr>\n",
       "      <th>1</th>\n",
       "      <td>76341</td>\n",
       "      <td>tt1392190</td>\n",
       "      <td>28.419936</td>\n",
       "      <td>150000000</td>\n",
       "      <td>378436354</td>\n",
       "      <td>Mad Max: Fury Road</td>\n",
       "      <td>Tom Hardy|Charlize Theron|Hugh Keays-Byrne|Nic...</td>\n",
       "      <td>http://www.madmaxmovie.com/</td>\n",
       "      <td>George Miller</td>\n",
       "      <td>What a Lovely Day.</td>\n",
       "      <td>future|chase|post-apocalyptic|dystopia|australia</td>\n",
       "      <td>An apocalyptic story set in the furthest reach...</td>\n",
       "      <td>120</td>\n",
       "      <td>Action|Adventure|Science Fiction|Thriller</td>\n",
       "      <td>Village Roadshow Pictures|Kennedy Miller Produ...</td>\n",
       "      <td>5/13/15</td>\n",
       "      <td>6185</td>\n",
       "      <td>7.1</td>\n",
       "      <td>2015</td>\n",
       "      <td>1.379999e+08</td>\n",
       "      <td>3.481613e+08</td>\n",
       "    </tr>\n",
       "    <tr>\n",
       "      <th>2</th>\n",
       "      <td>262500</td>\n",
       "      <td>tt2908446</td>\n",
       "      <td>13.112507</td>\n",
       "      <td>110000000</td>\n",
       "      <td>295238201</td>\n",
       "      <td>Insurgent</td>\n",
       "      <td>Shailene Woodley|Theo James|Kate Winslet|Ansel...</td>\n",
       "      <td>http://www.thedivergentseries.movie/#insurgent</td>\n",
       "      <td>Robert Schwentke</td>\n",
       "      <td>One Choice Can Destroy You</td>\n",
       "      <td>based on novel|revolution|dystopia|sequel|dyst...</td>\n",
       "      <td>Beatrice Prior must confront her inner demons ...</td>\n",
       "      <td>119</td>\n",
       "      <td>Adventure|Science Fiction|Thriller</td>\n",
       "      <td>Summit Entertainment|Mandeville Films|Red Wago...</td>\n",
       "      <td>3/18/15</td>\n",
       "      <td>2480</td>\n",
       "      <td>6.3</td>\n",
       "      <td>2015</td>\n",
       "      <td>1.012000e+08</td>\n",
       "      <td>2.716190e+08</td>\n",
       "    </tr>\n",
       "    <tr>\n",
       "      <th>3</th>\n",
       "      <td>140607</td>\n",
       "      <td>tt2488496</td>\n",
       "      <td>11.173104</td>\n",
       "      <td>200000000</td>\n",
       "      <td>2068178225</td>\n",
       "      <td>Star Wars: The Force Awakens</td>\n",
       "      <td>Harrison Ford|Mark Hamill|Carrie Fisher|Adam D...</td>\n",
       "      <td>http://www.starwars.com/films/star-wars-episod...</td>\n",
       "      <td>J.J. Abrams</td>\n",
       "      <td>Every generation has a story.</td>\n",
       "      <td>android|spaceship|jedi|space opera|3d</td>\n",
       "      <td>Thirty years after defeating the Galactic Empi...</td>\n",
       "      <td>136</td>\n",
       "      <td>Action|Adventure|Science Fiction|Fantasy</td>\n",
       "      <td>Lucasfilm|Truenorth Productions|Bad Robot</td>\n",
       "      <td>12/15/15</td>\n",
       "      <td>5292</td>\n",
       "      <td>7.5</td>\n",
       "      <td>2015</td>\n",
       "      <td>1.839999e+08</td>\n",
       "      <td>1.902723e+09</td>\n",
       "    </tr>\n",
       "    <tr>\n",
       "      <th>4</th>\n",
       "      <td>168259</td>\n",
       "      <td>tt2820852</td>\n",
       "      <td>9.335014</td>\n",
       "      <td>190000000</td>\n",
       "      <td>1506249360</td>\n",
       "      <td>Furious 7</td>\n",
       "      <td>Vin Diesel|Paul Walker|Jason Statham|Michelle ...</td>\n",
       "      <td>http://www.furious7.com/</td>\n",
       "      <td>James Wan</td>\n",
       "      <td>Vengeance Hits Home</td>\n",
       "      <td>car race|speed|revenge|suspense|car</td>\n",
       "      <td>Deckard Shaw seeks revenge against Dominic Tor...</td>\n",
       "      <td>137</td>\n",
       "      <td>Action|Crime|Thriller</td>\n",
       "      <td>Universal Pictures|Original Film|Media Rights ...</td>\n",
       "      <td>4/1/15</td>\n",
       "      <td>2947</td>\n",
       "      <td>7.3</td>\n",
       "      <td>2015</td>\n",
       "      <td>1.747999e+08</td>\n",
       "      <td>1.385749e+09</td>\n",
       "    </tr>\n",
       "  </tbody>\n",
       "</table>\n",
       "</div>"
      ],
      "text/plain": [
       "       id    imdb_id  popularity     budget     revenue  \\\n",
       "0  135397  tt0369610   32.985763  150000000  1513528810   \n",
       "1   76341  tt1392190   28.419936  150000000   378436354   \n",
       "2  262500  tt2908446   13.112507  110000000   295238201   \n",
       "3  140607  tt2488496   11.173104  200000000  2068178225   \n",
       "4  168259  tt2820852    9.335014  190000000  1506249360   \n",
       "\n",
       "                 original_title  \\\n",
       "0                Jurassic World   \n",
       "1            Mad Max: Fury Road   \n",
       "2                     Insurgent   \n",
       "3  Star Wars: The Force Awakens   \n",
       "4                     Furious 7   \n",
       "\n",
       "                                                cast  \\\n",
       "0  Chris Pratt|Bryce Dallas Howard|Irrfan Khan|Vi...   \n",
       "1  Tom Hardy|Charlize Theron|Hugh Keays-Byrne|Nic...   \n",
       "2  Shailene Woodley|Theo James|Kate Winslet|Ansel...   \n",
       "3  Harrison Ford|Mark Hamill|Carrie Fisher|Adam D...   \n",
       "4  Vin Diesel|Paul Walker|Jason Statham|Michelle ...   \n",
       "\n",
       "                                            homepage          director  \\\n",
       "0                      http://www.jurassicworld.com/   Colin Trevorrow   \n",
       "1                        http://www.madmaxmovie.com/     George Miller   \n",
       "2     http://www.thedivergentseries.movie/#insurgent  Robert Schwentke   \n",
       "3  http://www.starwars.com/films/star-wars-episod...       J.J. Abrams   \n",
       "4                           http://www.furious7.com/         James Wan   \n",
       "\n",
       "                         tagline  \\\n",
       "0              The park is open.   \n",
       "1             What a Lovely Day.   \n",
       "2     One Choice Can Destroy You   \n",
       "3  Every generation has a story.   \n",
       "4            Vengeance Hits Home   \n",
       "\n",
       "                                            keywords  \\\n",
       "0  monster|dna|tyrannosaurus rex|velociraptor|island   \n",
       "1   future|chase|post-apocalyptic|dystopia|australia   \n",
       "2  based on novel|revolution|dystopia|sequel|dyst...   \n",
       "3              android|spaceship|jedi|space opera|3d   \n",
       "4                car race|speed|revenge|suspense|car   \n",
       "\n",
       "                                            overview  runtime  \\\n",
       "0  Twenty-two years after the events of Jurassic ...      124   \n",
       "1  An apocalyptic story set in the furthest reach...      120   \n",
       "2  Beatrice Prior must confront her inner demons ...      119   \n",
       "3  Thirty years after defeating the Galactic Empi...      136   \n",
       "4  Deckard Shaw seeks revenge against Dominic Tor...      137   \n",
       "\n",
       "                                      genres  \\\n",
       "0  Action|Adventure|Science Fiction|Thriller   \n",
       "1  Action|Adventure|Science Fiction|Thriller   \n",
       "2         Adventure|Science Fiction|Thriller   \n",
       "3   Action|Adventure|Science Fiction|Fantasy   \n",
       "4                      Action|Crime|Thriller   \n",
       "\n",
       "                                production_companies release_date  vote_count  \\\n",
       "0  Universal Studios|Amblin Entertainment|Legenda...       6/9/15        5562   \n",
       "1  Village Roadshow Pictures|Kennedy Miller Produ...      5/13/15        6185   \n",
       "2  Summit Entertainment|Mandeville Films|Red Wago...      3/18/15        2480   \n",
       "3          Lucasfilm|Truenorth Productions|Bad Robot     12/15/15        5292   \n",
       "4  Universal Pictures|Original Film|Media Rights ...       4/1/15        2947   \n",
       "\n",
       "   vote_average  release_year    budget_adj   revenue_adj  \n",
       "0           6.5          2015  1.379999e+08  1.392446e+09  \n",
       "1           7.1          2015  1.379999e+08  3.481613e+08  \n",
       "2           6.3          2015  1.012000e+08  2.716190e+08  \n",
       "3           7.5          2015  1.839999e+08  1.902723e+09  \n",
       "4           7.3          2015  1.747999e+08  1.385749e+09  "
      ]
     },
     "execution_count": 2,
     "metadata": {},
     "output_type": "execute_result"
    }
   ],
   "source": [
    "df = pd.read_csv('tmdb-movies.csv')\n",
    "pd.options.display.max_columns = None # to display all the columns of the dataframe (otherwise we will display only a part of them)\n",
    "df.head()\n"
   ]
  },
  {
   "cell_type": "markdown",
   "metadata": {},
   "source": [
    "**2nd Step: Identifying missing data and their impact** :  \n",
    "1-Extract informations about the missing ( null ) values in each column. \n",
    "\n",
    "2- Identify the importance of the missing data:  \n",
    "\n",
    " 2.1 - First thing to pay attention to is wether these data are crucial under \n",
    " the scope of our analysis ; in other words will we need these informations in order to answer the questions we have , if yes we go into some method of handling missing data , otherwise we just drop the column entirely.  \n",
    " \n",
    " 2.2 - if the data is crucial , then we should get the propotion of the missing values, if it's a very small propotion then we can just drop the rows that have these missing values (example : if we only have a propotion under 1% of the data are missing these values we can just drop these rows)  \n",
    " \n",
    " 2.3 - If we can't drop these rows then we will be filling these missing data , there are many ways to do so , in this project i'll be using either the mean or the median and this depends on the distribution that i have ; if the distribution is dispersed I will use the median to fill the missing values because in this case the median will be more representative , in the other case ( non dispersed distribtion ) then the mean will be the value that i will use in order to handle missing data.\n",
    "\n",
    "    "
   ]
  },
  {
   "cell_type": "code",
   "execution_count": 3,
   "metadata": {
    "scrolled": true
   },
   "outputs": [
    {
     "name": "stdout",
     "output_type": "stream",
     "text": [
      "<class 'pandas.core.frame.DataFrame'>\n",
      "RangeIndex: 10866 entries, 0 to 10865\n",
      "Data columns (total 21 columns):\n",
      "id                      10866 non-null int64\n",
      "imdb_id                 10856 non-null object\n",
      "popularity              10866 non-null float64\n",
      "budget                  10866 non-null int64\n",
      "revenue                 10866 non-null int64\n",
      "original_title          10866 non-null object\n",
      "cast                    10790 non-null object\n",
      "homepage                2936 non-null object\n",
      "director                10822 non-null object\n",
      "tagline                 8042 non-null object\n",
      "keywords                9373 non-null object\n",
      "overview                10862 non-null object\n",
      "runtime                 10866 non-null int64\n",
      "genres                  10843 non-null object\n",
      "production_companies    9836 non-null object\n",
      "release_date            10866 non-null object\n",
      "vote_count              10866 non-null int64\n",
      "vote_average            10866 non-null float64\n",
      "release_year            10866 non-null int64\n",
      "budget_adj              10866 non-null float64\n",
      "revenue_adj             10866 non-null float64\n",
      "dtypes: float64(4), int64(6), object(11)\n",
      "memory usage: 1.7+ MB\n"
     ]
    }
   ],
   "source": [
    "df.info()"
   ]
  },
  {
   "cell_type": "markdown",
   "metadata": {},
   "source": [
    "=> Columns that have missing data are :  \n",
    "* imdb_id , cast, homepage,tageline, keywords,Overview ,production_companies: These are not informations that we will be needing in this analysis so i will drop these columns.\n",
    "* director,genres  : These two informations will be used to answer our questions so i will be handling the missing data for those two columns.  \n",
    "* To avoid the inflation affect on the financial variables ( revenue and budget ) I will be using the adjusted values ( columns : budget_adj  and revenue_adj ) so the two columns  revenue and budget will not be used so i will drop them too .\n",
    "* I will be using the vote_average only , so there is no need to keep the vote_count column."
   ]
  },
  {
   "cell_type": "markdown",
   "metadata": {},
   "source": [
    "### Data Cleaning "
   ]
  },
  {
   "cell_type": "code",
   "execution_count": 3,
   "metadata": {},
   "outputs": [
    {
     "data": {
      "text/html": [
       "<div>\n",
       "<style scoped>\n",
       "    .dataframe tbody tr th:only-of-type {\n",
       "        vertical-align: middle;\n",
       "    }\n",
       "\n",
       "    .dataframe tbody tr th {\n",
       "        vertical-align: top;\n",
       "    }\n",
       "\n",
       "    .dataframe thead th {\n",
       "        text-align: right;\n",
       "    }\n",
       "</style>\n",
       "<table border=\"1\" class=\"dataframe\">\n",
       "  <thead>\n",
       "    <tr style=\"text-align: right;\">\n",
       "      <th></th>\n",
       "      <th>popularity</th>\n",
       "      <th>original_title</th>\n",
       "      <th>director</th>\n",
       "      <th>runtime</th>\n",
       "      <th>genres</th>\n",
       "      <th>release_date</th>\n",
       "      <th>vote_average</th>\n",
       "      <th>release_year</th>\n",
       "      <th>budget_adj</th>\n",
       "      <th>revenue_adj</th>\n",
       "    </tr>\n",
       "  </thead>\n",
       "  <tbody>\n",
       "    <tr>\n",
       "      <th>0</th>\n",
       "      <td>32.985763</td>\n",
       "      <td>Jurassic World</td>\n",
       "      <td>Colin Trevorrow</td>\n",
       "      <td>124</td>\n",
       "      <td>Action|Adventure|Science Fiction|Thriller</td>\n",
       "      <td>6/9/15</td>\n",
       "      <td>6.5</td>\n",
       "      <td>2015</td>\n",
       "      <td>1.379999e+08</td>\n",
       "      <td>1.392446e+09</td>\n",
       "    </tr>\n",
       "    <tr>\n",
       "      <th>1</th>\n",
       "      <td>28.419936</td>\n",
       "      <td>Mad Max: Fury Road</td>\n",
       "      <td>George Miller</td>\n",
       "      <td>120</td>\n",
       "      <td>Action|Adventure|Science Fiction|Thriller</td>\n",
       "      <td>5/13/15</td>\n",
       "      <td>7.1</td>\n",
       "      <td>2015</td>\n",
       "      <td>1.379999e+08</td>\n",
       "      <td>3.481613e+08</td>\n",
       "    </tr>\n",
       "    <tr>\n",
       "      <th>2</th>\n",
       "      <td>13.112507</td>\n",
       "      <td>Insurgent</td>\n",
       "      <td>Robert Schwentke</td>\n",
       "      <td>119</td>\n",
       "      <td>Adventure|Science Fiction|Thriller</td>\n",
       "      <td>3/18/15</td>\n",
       "      <td>6.3</td>\n",
       "      <td>2015</td>\n",
       "      <td>1.012000e+08</td>\n",
       "      <td>2.716190e+08</td>\n",
       "    </tr>\n",
       "    <tr>\n",
       "      <th>3</th>\n",
       "      <td>11.173104</td>\n",
       "      <td>Star Wars: The Force Awakens</td>\n",
       "      <td>J.J. Abrams</td>\n",
       "      <td>136</td>\n",
       "      <td>Action|Adventure|Science Fiction|Fantasy</td>\n",
       "      <td>12/15/15</td>\n",
       "      <td>7.5</td>\n",
       "      <td>2015</td>\n",
       "      <td>1.839999e+08</td>\n",
       "      <td>1.902723e+09</td>\n",
       "    </tr>\n",
       "    <tr>\n",
       "      <th>4</th>\n",
       "      <td>9.335014</td>\n",
       "      <td>Furious 7</td>\n",
       "      <td>James Wan</td>\n",
       "      <td>137</td>\n",
       "      <td>Action|Crime|Thriller</td>\n",
       "      <td>4/1/15</td>\n",
       "      <td>7.3</td>\n",
       "      <td>2015</td>\n",
       "      <td>1.747999e+08</td>\n",
       "      <td>1.385749e+09</td>\n",
       "    </tr>\n",
       "  </tbody>\n",
       "</table>\n",
       "</div>"
      ],
      "text/plain": [
       "   popularity                original_title          director  runtime  \\\n",
       "0   32.985763                Jurassic World   Colin Trevorrow      124   \n",
       "1   28.419936            Mad Max: Fury Road     George Miller      120   \n",
       "2   13.112507                     Insurgent  Robert Schwentke      119   \n",
       "3   11.173104  Star Wars: The Force Awakens       J.J. Abrams      136   \n",
       "4    9.335014                     Furious 7         James Wan      137   \n",
       "\n",
       "                                      genres release_date  vote_average  \\\n",
       "0  Action|Adventure|Science Fiction|Thriller       6/9/15           6.5   \n",
       "1  Action|Adventure|Science Fiction|Thriller      5/13/15           7.1   \n",
       "2         Adventure|Science Fiction|Thriller      3/18/15           6.3   \n",
       "3   Action|Adventure|Science Fiction|Fantasy     12/15/15           7.5   \n",
       "4                      Action|Crime|Thriller       4/1/15           7.3   \n",
       "\n",
       "   release_year    budget_adj   revenue_adj  \n",
       "0          2015  1.379999e+08  1.392446e+09  \n",
       "1          2015  1.379999e+08  3.481613e+08  \n",
       "2          2015  1.012000e+08  2.716190e+08  \n",
       "3          2015  1.839999e+08  1.902723e+09  \n",
       "4          2015  1.747999e+08  1.385749e+09  "
      ]
     },
     "execution_count": 3,
     "metadata": {},
     "output_type": "execute_result"
    }
   ],
   "source": [
    "# drop unecessary columns \n",
    "col_to_drop = ['id','imdb_id','budget','revenue','cast','homepage','tagline','keywords','overview','production_companies','vote_count']\n",
    "df.drop(col_to_drop, axis = 1, inplace = True)\n",
    "df.head()"
   ]
  },
  {
   "cell_type": "code",
   "execution_count": 5,
   "metadata": {
    "scrolled": true
   },
   "outputs": [
    {
     "name": "stdout",
     "output_type": "stream",
     "text": [
      "<class 'pandas.core.frame.DataFrame'>\n",
      "RangeIndex: 10866 entries, 0 to 10865\n",
      "Data columns (total 10 columns):\n",
      "popularity        10866 non-null float64\n",
      "original_title    10866 non-null object\n",
      "director          10822 non-null object\n",
      "runtime           10866 non-null int64\n",
      "genres            10843 non-null object\n",
      "release_date      10866 non-null object\n",
      "vote_average      10866 non-null float64\n",
      "release_year      10866 non-null int64\n",
      "budget_adj        10866 non-null float64\n",
      "revenue_adj       10866 non-null float64\n",
      "dtypes: float64(4), int64(2), object(4)\n",
      "memory usage: 849.0+ KB\n",
      "the percentage of the missing data for director column is 0.40493281796429226 %\n",
      "the percentage of the missing data for genres column is 0.21166942757224366 %\n"
     ]
    }
   ],
   "source": [
    "df.info()\n",
    "# now i will calculates the percentage of the missing data for each column\n",
    "missing_direc_per = (df[df['director'].isnull()].shape[0] / df.shape[0])*100\n",
    "missing_genres_per = (df[df['genres'].isnull()].shape[0] / df.shape[0])*100\n",
    "print('the percentage of the missing data for director column is {} %'.format(missing_direc_per))\n",
    "print('the percentage of the missing data for genres column is {} %'.format(missing_genres_per ))"
   ]
  },
  {
   "cell_type": "markdown",
   "metadata": {},
   "source": [
    "=> So as we can see the missing data in each column doesn't reach to 1% of the global distribution count so cutting of these rows won't affect our analysis in a dramatic way ."
   ]
  },
  {
   "cell_type": "code",
   "execution_count": 4,
   "metadata": {
    "collapsed": true
   },
   "outputs": [],
   "source": [
    "# now cutting of the rows with the missing data \n",
    "df = df[df['genres'].notnull()]\n",
    "df = df[df['director'].notnull()]"
   ]
  },
  {
   "cell_type": "markdown",
   "metadata": {},
   "source": [
    "**3rd Step : removing duplicate values if they exist ** "
   ]
  },
  {
   "cell_type": "code",
   "execution_count": 5,
   "metadata": {
    "scrolled": true
   },
   "outputs": [
    {
     "name": "stdout",
     "output_type": "stream",
     "text": [
      "the number of duplicates rows is 1 \n",
      "check the number of duplicates after removing them (to make sure we get rid of them ) 0\n"
     ]
    }
   ],
   "source": [
    "duplicates_count = df.duplicated().sum()\n",
    "print('the number of duplicates rows is {} '.format(duplicates_count))\n",
    "# so there is one duplicate  we will be removing it \n",
    "df.drop_duplicates(inplace = True)\n",
    "duplicates_count = df.duplicated().sum()\n",
    "print('check the number of duplicates after removing them (to make sure we get rid of them ) {}'.format(duplicates_count))"
   ]
  },
  {
   "cell_type": "markdown",
   "metadata": {},
   "source": [
    "**4th Step fix data format** :  \n",
    "* 4.1  Popularity column contains values of float value => round these values to decimal places for a much clear values.  \n",
    "* 4.2  The genres column contains multiple values for each row => split these values into multiple rows"
   ]
  },
  {
   "cell_type": "code",
   "execution_count": 25,
   "metadata": {
    "collapsed": true
   },
   "outputs": [],
   "source": [
    "#4.1 round the popularity values \n",
    "df['popularity'] = df['popularity'].round(2)\n",
    "#4.2 split the genres column\n",
    "cols = list(df.columns.values) # the columns that we have \n",
    "col_split = ['genres'] # the column that has many values (the one that we want to split its values)\n",
    "\n",
    "def split_genres_per_row(row,cols,col_split ):\n",
    "    \"\"\"\n",
    "    This function takes a row with a column that has multiple values and then split it into many rows \n",
    "    each one has one of the condense column values\n",
    "    INPUT : \n",
    "        row : a DataFrame row (pandas.core.series.Series object ) to split into multiple rows\n",
    "        cols : a list of our dataFrame column names (a list of strings )\n",
    "        col_split : a list of the column that have multiple values ( a list of strings)\n",
    "    OUTPUT : a DataFrame with all the splitted rows \n",
    "    \"\"\"\n",
    "    count_sep = row['genres'].count('|') #count the number of separators \n",
    "    nbr_genres = 0\n",
    "    if (count_sep%2 == 0 ):\n",
    "        nbr_genres = count_sep  #if we have an even number of seperators then we have count_sep genres (start couting from 0)\n",
    "    else :\n",
    "        nbr_genres = count_sep +1 #if we have an odd  number of seperators then we have count_sep +1 genres  (start couting from 0)\n",
    "    \n",
    "    splitted_values = row.genres.split('|')\n",
    "    df1 = pd.DataFrame() # the result \n",
    "    to_copy = [] # each row has some values that are atomic and which will be copied in the splitted rows \n",
    "    \n",
    "    for r in cols:\n",
    "        to_copy.append(row[r])\n",
    "    \n",
    "    for i in range(nbr_genres  ):\n",
    "        df2 = pd.DataFrame([to_copy],columns=cols)\n",
    "        df2[col_split] = splitted_values[i]\n",
    "        df1 = df1.append(df2)\n",
    "\n",
    "    return df1\n",
    "\n",
    "def split_rows_dataFrame(df,df_cols,col_split):\n",
    "    \"\"\"\n",
    "    This function will loop over all the rows in the entire Dataframe and split each row that have \n",
    "    multiple values in columns into many rows , and then construct the new dataframe\n",
    "    INPUT :\n",
    "        df : The original dataFrame\n",
    "        df_cols : a list of our dataFrame column names (a list of strings )\n",
    "        col_split : a list of the column that have multiple values ( a list of strings)\n",
    "    OUTPUT : The new DataFrame in which each column has an atomic value\n",
    "    \"\"\"\n",
    "    result = pd.DataFrame()\n",
    "    for index, row in df.iterrows():\n",
    "        df1 = split_genres_per_row(row,cols ,col_split)\n",
    "        result = result.append(df1)\n",
    "    return result\n",
    "new_df = split_rows_dataFrame(df,cols,col_split)"
   ]
  },
  {
   "cell_type": "code",
   "execution_count": 27,
   "metadata": {
    "collapsed": true,
    "scrolled": true
   },
   "outputs": [],
   "source": [
    "# This cell we are displaying the result ( first 6 rows ) just to show how our new dataframe look like \n",
    "new_df.head(6)\n",
    "# this is just to save the new clean data set in a seperate file \n",
    "new_df.to_csv('clean_tmdb-movies.csv')"
   ]
  },
  {
   "cell_type": "markdown",
   "metadata": {},
   "source": [
    "> **result** : Now  our data is clean , well formatted and ready to be analyzed \n",
    "=> for the new section we will be working with new_df dataFrame "
   ]
  },
  {
   "cell_type": "markdown",
   "metadata": {},
   "source": [
    "<a id='eda'></a>\n",
    "## Exploratory Data Analysis\n",
    "\n",
    "\n",
    "\n",
    "### Research Question 1 : what are the most popular kinds of movies during this period ? "
   ]
  },
  {
   "cell_type": "code",
   "execution_count": 43,
   "metadata": {},
   "outputs": [
    {
     "name": "stdout",
     "output_type": "stream",
     "text": [
      "popularity         476\n",
      "original_title    8277\n",
      "director          4125\n",
      "runtime            226\n",
      "genres              20\n",
      "release_date      5168\n",
      "vote_average        68\n",
      "release_year        56\n",
      "budget_adj        2300\n",
      "revenue_adj       3972\n",
      "dtype: int64\n"
     ]
    },
    {
     "data": {
      "text/html": [
       "<div>\n",
       "<style scoped>\n",
       "    .dataframe tbody tr th:only-of-type {\n",
       "        vertical-align: middle;\n",
       "    }\n",
       "\n",
       "    .dataframe tbody tr th {\n",
       "        vertical-align: top;\n",
       "    }\n",
       "\n",
       "    .dataframe thead th {\n",
       "        text-align: right;\n",
       "    }\n",
       "</style>\n",
       "<table border=\"1\" class=\"dataframe\">\n",
       "  <thead>\n",
       "    <tr style=\"text-align: right;\">\n",
       "      <th></th>\n",
       "      <th>popularity</th>\n",
       "      <th>runtime</th>\n",
       "      <th>vote_average</th>\n",
       "      <th>release_year</th>\n",
       "      <th>budget_adj</th>\n",
       "      <th>revenue_adj</th>\n",
       "    </tr>\n",
       "  </thead>\n",
       "  <tbody>\n",
       "    <tr>\n",
       "      <th>count</th>\n",
       "      <td>10800.000000</td>\n",
       "      <td>10800.000000</td>\n",
       "      <td>10800.000000</td>\n",
       "      <td>10800.000000</td>\n",
       "      <td>1.080000e+04</td>\n",
       "      <td>1.080000e+04</td>\n",
       "    </tr>\n",
       "    <tr>\n",
       "      <th>mean</th>\n",
       "      <td>0.649469</td>\n",
       "      <td>102.189722</td>\n",
       "      <td>5.970880</td>\n",
       "      <td>2001.289537</td>\n",
       "      <td>1.765437e+07</td>\n",
       "      <td>5.167714e+07</td>\n",
       "    </tr>\n",
       "    <tr>\n",
       "      <th>std</th>\n",
       "      <td>1.002471</td>\n",
       "      <td>30.783873</td>\n",
       "      <td>0.933006</td>\n",
       "      <td>12.819545</td>\n",
       "      <td>3.438403e+07</td>\n",
       "      <td>1.450182e+08</td>\n",
       "    </tr>\n",
       "    <tr>\n",
       "      <th>min</th>\n",
       "      <td>0.000000</td>\n",
       "      <td>0.000000</td>\n",
       "      <td>1.500000</td>\n",
       "      <td>1960.000000</td>\n",
       "      <td>0.000000e+00</td>\n",
       "      <td>0.000000e+00</td>\n",
       "    </tr>\n",
       "    <tr>\n",
       "      <th>25%</th>\n",
       "      <td>0.210000</td>\n",
       "      <td>90.000000</td>\n",
       "      <td>5.400000</td>\n",
       "      <td>1995.000000</td>\n",
       "      <td>0.000000e+00</td>\n",
       "      <td>0.000000e+00</td>\n",
       "    </tr>\n",
       "    <tr>\n",
       "      <th>50%</th>\n",
       "      <td>0.390000</td>\n",
       "      <td>99.000000</td>\n",
       "      <td>6.000000</td>\n",
       "      <td>2006.000000</td>\n",
       "      <td>0.000000e+00</td>\n",
       "      <td>0.000000e+00</td>\n",
       "    </tr>\n",
       "    <tr>\n",
       "      <th>75%</th>\n",
       "      <td>0.720000</td>\n",
       "      <td>111.250000</td>\n",
       "      <td>6.600000</td>\n",
       "      <td>2011.000000</td>\n",
       "      <td>2.103337e+07</td>\n",
       "      <td>3.408743e+07</td>\n",
       "    </tr>\n",
       "    <tr>\n",
       "      <th>max</th>\n",
       "      <td>32.990000</td>\n",
       "      <td>900.000000</td>\n",
       "      <td>9.200000</td>\n",
       "      <td>2015.000000</td>\n",
       "      <td>4.250000e+08</td>\n",
       "      <td>2.827124e+09</td>\n",
       "    </tr>\n",
       "  </tbody>\n",
       "</table>\n",
       "</div>"
      ],
      "text/plain": [
       "         popularity       runtime  vote_average  release_year    budget_adj  \\\n",
       "count  10800.000000  10800.000000  10800.000000  10800.000000  1.080000e+04   \n",
       "mean       0.649469    102.189722      5.970880   2001.289537  1.765437e+07   \n",
       "std        1.002471     30.783873      0.933006     12.819545  3.438403e+07   \n",
       "min        0.000000      0.000000      1.500000   1960.000000  0.000000e+00   \n",
       "25%        0.210000     90.000000      5.400000   1995.000000  0.000000e+00   \n",
       "50%        0.390000     99.000000      6.000000   2006.000000  0.000000e+00   \n",
       "75%        0.720000    111.250000      6.600000   2011.000000  2.103337e+07   \n",
       "max       32.990000    900.000000      9.200000   2015.000000  4.250000e+08   \n",
       "\n",
       "        revenue_adj  \n",
       "count  1.080000e+04  \n",
       "mean   5.167714e+07  \n",
       "std    1.450182e+08  \n",
       "min    0.000000e+00  \n",
       "25%    0.000000e+00  \n",
       "50%    0.000000e+00  \n",
       "75%    3.408743e+07  \n",
       "max    2.827124e+09  "
      ]
     },
     "execution_count": 43,
     "metadata": {},
     "output_type": "execute_result"
    }
   ],
   "source": [
    "print(new_df.nunique())\n",
    "new_df.describe()"
   ]
  },
  {
   "cell_type": "markdown",
   "metadata": {},
   "source": [
    "> So we have 20 film genres over 56 years from 1960 to 2015"
   ]
  },
  {
   "cell_type": "code",
   "execution_count": 18,
   "metadata": {
    "scrolled": true
   },
   "outputs": [
    {
     "data": {
      "image/png": "[encoded data removed]",
      "text/plain": [
       "<Figure size 1440x360 with 1 Axes>"
      ]
     },
     "metadata": {},
     "output_type": "display_data"
    }
   ],
   "source": [
    "# The cleaning may take time so after it finishes make sure to run the following cell in order \n",
    "#to save the cleaned data and into a seperate file 'clean_tmdb-movies.csv'\n",
    "# so that if  you do explore the work in two phases it will be easy to load them from the new file rather \n",
    "#than starting the cleaning again ( a supposition :D)\n",
    "# if you want to check the plotig without running the cleaning part again uncomment the reading line below \n",
    "#new_df = pd.read_csv('clean_tmdb-movies.csv')\n",
    "\n",
    "grouped = new_df.groupby(['genres'])\n",
    "s = grouped['popularity'].aggregate(np.sum)\n",
    "\n",
    "s.plot(kind='bar',figsize=(20,5),title='the popularity of each kind of movies from 1960 to 2015');"
   ]
  },
  {
   "cell_type": "markdown",
   "metadata": {},
   "source": [
    "> So we can clearly see that the top three popular movie genres are : Drama , Action And Comedy \n",
    " => Seems like this population(the persons who watch these movies ) prefer to see realistic exiting events that a normal life may miss, not everyone gets to be an impossible mission everyday."
   ]
  },
  {
   "cell_type": "markdown",
   "metadata": {},
   "source": [
    "### Research Question 2 : How does the film revenue correlate with film's popularity ?  "
   ]
  },
  {
   "cell_type": "code",
   "execution_count": 33,
   "metadata": {},
   "outputs": [
    {
     "data": {
      "image/png": "[encoded data removed]",
      "text/plain": [
       "<Figure size 720x288 with 1 Axes>"
      ]
     },
     "metadata": {},
     "output_type": "display_data"
    }
   ],
   "source": [
    "new_df.plot.scatter(x='popularity',\n",
    "                y='revenue_adj',\n",
    "                c='DarkBlue',\n",
    "                title= 'Correlation between the Movies revenue and the popularity from 1960 to 2015',\n",
    "                figsize=(10,4)\n",
    "                    \n",
    "               );"
   ]
  },
  {
   "cell_type": "markdown",
   "metadata": {},
   "source": [
    "> In general we can say that there is a positive correlation between the popularity and the revenue of films"
   ]
  },
  {
   "cell_type": "markdown",
   "metadata": {},
   "source": [
    "### Research Question 3 : How does the film revenue correlate with film's budget ?"
   ]
  },
  {
   "cell_type": "code",
   "execution_count": 35,
   "metadata": {},
   "outputs": [
    {
     "data": {
      "image/png": "[encoded data removed]",
      "text/plain": [
       "<Figure size 720x288 with 1 Axes>"
      ]
     },
     "metadata": {},
     "output_type": "display_data"
    }
   ],
   "source": [
    "new_df.plot.scatter(x='budget_adj',\n",
    "                y='revenue_adj',\n",
    "                c='DarkBlue',\n",
    "                title= 'Correlation between the Movies revenue and the movies budgets from 1960 to 2015',\n",
    "                figsize=(10,4)\n",
    "                    \n",
    "               );"
   ]
  },
  {
   "cell_type": "markdown",
   "metadata": {},
   "source": [
    "> The high revenue is not necessary correlated with the high budget for this sample "
   ]
  },
  {
   "cell_type": "markdown",
   "metadata": {},
   "source": [
    "### Research Question 4 : How does the general movies industury evolving throughout the years ?"
   ]
  },
  {
   "cell_type": "code",
   "execution_count": 61,
   "metadata": {
    "scrolled": false
   },
   "outputs": [
    {
     "data": {
      "image/png": "[encoded data removed]",
      "text/plain": [
       "<Figure size 720x360 with 1 Axes>"
      ]
     },
     "metadata": {},
     "output_type": "display_data"
    }
   ],
   "source": [
    "#It is to note that i didn't put all the indicators in one graph for two reasons:\n",
    "#reason 1 : the range values of each indicator is different than the rest \n",
    "            #besides scaling all of them will not reflect any sense\n",
    "#reason 2 : to provide clean and clear visualizations\n",
    "popularity_indicator = new_df.groupby(['release_year'])['popularity'].sum()\n",
    "popularity_indicator.plot(figsize=(10,5), \n",
    "                      y='popularity',\n",
    "                      title ='the evolution of the films\\'s populariry from 1960 to 2015',\n",
    "                      color='red');\n"
   ]
  },
  {
   "cell_type": "markdown",
   "metadata": {},
   "source": [
    "> The films became more popular as an entertainment tool since 2000 this can be due to the availability of TVs in each home and the evolution of the movies industry in general( better image quality....)"
   ]
  },
  {
   "cell_type": "code",
   "execution_count": 62,
   "metadata": {
    "scrolled": true
   },
   "outputs": [
    {
     "data": {
      "image/png": "[encoded data removed]",
      "text/plain": [
       "<Figure size 720x360 with 1 Axes>"
      ]
     },
     "metadata": {},
     "output_type": "display_data"
    }
   ],
   "source": [
    "revenue_indicator =new_df.groupby(['release_year'])['revenue_adj'].sum()\n",
    "revenue_indicator.plot(figsize=(10,5), \n",
    "                      title ='the evolution of the films\\'s revenue from 1960 to 2015',\n",
    "                      color = 'green');\n"
   ]
  },
  {
   "cell_type": "markdown",
   "metadata": {},
   "source": [
    "> Since the popularity of films increased , having an increase in the films revenue is not surprising "
   ]
  },
  {
   "cell_type": "code",
   "execution_count": 72,
   "metadata": {
    "scrolled": true
   },
   "outputs": [
    {
     "data": {
      "image/png": "[encoded data removed]",
      "text/plain": [
       "<Figure size 720x360 with 1 Axes>"
      ]
     },
     "metadata": {},
     "output_type": "display_data"
    }
   ],
   "source": [
    "revenue_indicator =new_df.groupby(['release_year'])['budget_adj'].sum()\n",
    "revenue_indicator.plot(figsize=(10,5), \n",
    "                      title ='the evolution of the films\\'s budget from 1960 to 2015',\n",
    "                      color='orange');\n"
   ]
  },
  {
   "cell_type": "markdown",
   "metadata": {},
   "source": [
    "> since the 1990s we use more sophisticated tools in the movies production the raise in the budget levels is normal \n",
    "however the remarkable decrease in budgets in 2010."
   ]
  },
  {
   "cell_type": "code",
   "execution_count": 71,
   "metadata": {
    "scrolled": true
   },
   "outputs": [
    {
     "data": {
      "image/png": "[encoded data removed]",
      "text/plain": [
       "<Figure size 720x360 with 1 Axes>"
      ]
     },
     "metadata": {},
     "output_type": "display_data"
    }
   ],
   "source": [
    "runtime_indicator =new_df.groupby(['release_year'])['runtime'].mean() # i used the mean because we need to see in each year how long were the films in average\n",
    "runtime_indicator.plot(figsize=(10,5), \n",
    "                      title ='the evolution of the films\\'s runtime from 1960 to 2015',\n",
    "                      color='grey');\n"
   ]
  },
  {
   "cell_type": "markdown",
   "metadata": {},
   "source": [
    "> People became more busy and life is following a fast rate so there is no wonder that the films will have short runtimes."
   ]
  },
  {
   "cell_type": "markdown",
   "metadata": {},
   "source": [
    "<a id='conclusions'></a>\n",
    "## Conclusions\n",
    "\n",
    "> **Summary**:   \n",
    "since 1960 to 2015 movie industry became a principal player in the entertainment field with movies getting more popular , recording more revenues and demanding larger budgets.  \n",
    "Without forgetting the adaption to the customer lifestyle evolution because during years people became more busy and films should get shorter in order not lose its spectators.\n",
    ">So making a high budget film with a short runtime may be a good deal ,but under the scope of this analysis such a conclusion can't be affirmed .<br>  \n",
    ">**Why?(limitations)** : <br>\n",
    "This conclusion can't be affirmed because :  \n",
    "1- The data that we have is a sample and not the whole population and this is an observational study , so we can't draw conclusions neither preditions on the population.  \n",
    "2- \"Correlation Doesn't prove causation \" bacause we have some correlations between variables , this can't prove that a change in one of them cause the others to change in a certain way. <br>\n",
    "3- The rating and the popularity of films are indicators that can be affected by many extranious factors such us the change in the people's culture , beliefs , society..... So the people who rated the films in 1960 are from another world compared with the generation of 2000."
   ]
  }
 ],
 "metadata": {
  "kernelspec": {
   "display_name": "Python 3",
   "language": "python",
   "name": "python3"
  },
  "language_info": {
   "codemirror_mode": {
    "name": "ipython",
    "version": 3
   },
   "file_extension": ".py",
   "mimetype": "text/x-python",
   "name": "python",
   "nbconvert_exporter": "python",
   "pygments_lexer": "ipython3",
   "version": "3.6.1"
  }
 },
 "nbformat": 4,
 "nbformat_minor": 2
}
